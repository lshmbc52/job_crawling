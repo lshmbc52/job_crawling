{
 "cells": [
  {
   "cell_type": "code",
   "execution_count": 7,
   "metadata": {},
   "outputs": [
    {
     "ename": "ModuleNotFoundError",
     "evalue": "No module named 'selenium'",
     "output_type": "error",
     "traceback": [
      "\u001b[0;31m---------------------------------------------------------------------------\u001b[0m",
      "\u001b[0;31mModuleNotFoundError\u001b[0m                       Traceback (most recent call last)",
      "Cell \u001b[0;32mIn[7], line 1\u001b[0m\n\u001b[0;32m----> 1\u001b[0m \u001b[38;5;28;01mfrom\u001b[39;00m \u001b[38;5;21;01mselenium\u001b[39;00m \u001b[38;5;28;01mimport\u001b[39;00m webdriver\n\u001b[1;32m      2\u001b[0m \u001b[38;5;28;01mfrom\u001b[39;00m \u001b[38;5;21;01mselenium\u001b[39;00m\u001b[38;5;21;01m.\u001b[39;00m\u001b[38;5;21;01mwebdriver\u001b[39;00m\u001b[38;5;21;01m.\u001b[39;00m\u001b[38;5;21;01mchrome\u001b[39;00m\u001b[38;5;21;01m.\u001b[39;00m\u001b[38;5;21;01mservice\u001b[39;00m \u001b[38;5;28;01mimport\u001b[39;00m Service\n\u001b[1;32m      3\u001b[0m \u001b[38;5;28;01mfrom\u001b[39;00m \u001b[38;5;21;01mselenium\u001b[39;00m\u001b[38;5;21;01m.\u001b[39;00m\u001b[38;5;21;01mwebdriver\u001b[39;00m\u001b[38;5;21;01m.\u001b[39;00m\u001b[38;5;21;01mchrome\u001b[39;00m\u001b[38;5;21;01m.\u001b[39;00m\u001b[38;5;21;01moptions\u001b[39;00m \u001b[38;5;28;01mimport\u001b[39;00m Options\n",
      "\u001b[0;31mModuleNotFoundError\u001b[0m: No module named 'selenium'"
     ]
    }
   ],
   "source": [
    "from selenium import webdriver\n",
    "from selenium.webdriver.chrome.service import Service\n",
    "from selenium.webdriver.chrome.options import Options\n",
    "from selenium.webdriver.support.ui import WebDriverWait\n",
    "from selenium.webdriver.support import expected_conditions as EC\n",
    "from webdriver_manager.chrome import ChromeDriverManager\n",
    "import logging\n",
    "\n",
    "def setup_chrome_driver(headless=False, download_path=None):\n",
    "    \"\"\"\n",
    "    Chrome WebDriver를 자동으로 설정하는 함수\n",
    "    \n",
    "    Args:\n",
    "        headless (bool): 헤드리스 모드 실행 여부\n",
    "        download_path (str): 파일 다운로드 경로 (선택사항)\n",
    "    \n",
    "    Returns:\n",
    "        webdriver: 설정된 Chrome WebDriver 인스턴스\n",
    "    \"\"\"\n",
    "    # 로깅 설정\n",
    "    logging.basicConfig(level=logging.INFO)\n",
    "    logger = logging.getLogger(__name__)\n",
    "    \n",
    "    try:\n",
    "        # Chrome 옵션 설정\n",
    "        chrome_options = Options()\n",
    "        \n",
    "        if headless:\n",
    "            chrome_options.add_argument('--headless')  # 헤드리스 모드\n",
    "        \n",
    "        # 기본 옵션 설정\n",
    "        chrome_options.add_argument('--start-maximized')  # 창 최대화\n",
    "        chrome_options.add_argument('--disable-notifications')  # 알림 비활성화\n",
    "        chrome_options.add_argument('--no-sandbox')  # 샌드박스 비활성화\n",
    "        chrome_options.add_argument('--disable-dev-shm-usage')  # 공유 메모리 사용 비활성화\n",
    "        \n",
    "        # 브라우저 크래시 방지\n",
    "        chrome_options.add_argument('--disable-gpu')\n",
    "        chrome_options.add_argument('--disable-software-rasterizer')\n",
    "        \n",
    "        # 불필요한 로그 제거\n",
    "        chrome_options.add_experimental_option('excludeSwitches', ['enable-logging'])\n",
    "        \n",
    "        # 다운로드 경로 설정 (지정된 경우)\n",
    "        if download_path:\n",
    "            prefs = {\n",
    "                \"download.default_directory\": download_path,\n",
    "                \"download.prompt_for_download\": False,\n",
    "                \"download.directory_upgrade\": True,\n",
    "                \"safebrowsing.enabled\": True\n",
    "            }\n",
    "            chrome_options.add_experimental_option(\"prefs\", prefs)\n",
    "        \n",
    "        # Chrome 드라이버 자동 설치 및 설정\n",
    "        service = Service(ChromeDriverManager().install())\n",
    "        driver = webdriver.Chrome(service=service, options=chrome_options)\n",
    "        \n",
    "        # 페이지 로드 타임아웃 설정\n",
    "        driver.set_page_load_timeout(30)\n",
    "        \n",
    "        logger.info(\"Chrome WebDriver가 성공적으로 설정되었습니다.\")\n",
    "        return driver\n",
    "    \n",
    "    except Exception as e:\n",
    "        logger.error(f\"Chrome WebDriver 설정 중 오류 발생: {str(e)}\")\n",
    "        raise\n",
    "\n",
    "def test_driver_setup():\n",
    "    \"\"\"\n",
    "    드라이버 설정 테스트\n",
    "    \"\"\"\n",
    "    try:\n",
    "        # 드라이버 설정\n",
    "        driver = setup_chrome_driver()\n",
    "        \n",
    "        # 테스트를 위해 Google 접속\n",
    "        driver.get(\"https://www.daum.net\")\n",
    "        print(\"daum 페이지에 성공적으로 접속했습니다.\")\n",
    "        \n",
    "        # 브라우저 제목 출력\n",
    "        print(f\"페이지 제목: {driver.title}\")\n",
    "        \n",
    "        return True\n",
    "        \n",
    "    except Exception as e:\n",
    "        print(f\"테스트 중 오류 발생: {str(e)}\")\n",
    "        return False\n",
    "        \n",
    "    finally:\n",
    "        if 'driver' in locals():\n",
    "            driver.quit()\n",
    "\n",
    "if __name__ == \"__main__\":\n",
    "    # 필요한 패키지 설치 안내\n",
    "    print(\"다음 패키지들이 필요합니다:\")\n",
    "    print(\"pip install selenium webdriver-manager\")\n",
    "    \n",
    "    # 드라이버 설정 테스트 실행\n",
    "    success = test_driver_setup()\n",
    "    if success:\n",
    "        print(\"드라이버 설정 테스트가 성공적으로 완료되었습니다.\")\n",
    "    else:\n",
    "        print(\"드라이버 설정 테스트가 실패했습니다.\")"
   ]
  },
  {
   "cell_type": "code",
   "execution_count": 2,
   "metadata": {},
   "outputs": [
    {
     "name": "stderr",
     "output_type": "stream",
     "text": [
      "INFO:WDM:====== WebDriver manager ======\n",
      "INFO:WDM:Get LATEST chromedriver version for google-chrome\n",
      "INFO:WDM:Get LATEST chromedriver version for google-chrome\n",
      "INFO:WDM:Driver [/home/sh/.wdm/drivers/chromedriver/linux64/129.0.6668.100/chromedriver-linux64/chromedriver] found in cache\n",
      "INFO:__main__:Chrome WebDriver가 성공적으로 설정되었습니다.\n"
     ]
    }
   ],
   "source": [
    "driver = setup_chrome_driver()"
   ]
  },
  {
   "cell_type": "code",
   "execution_count": 3,
   "metadata": {},
   "outputs": [],
   "source": [
    "# 목표 사이트 접속\n",
    "driver.get(\"https://www.jobkorea.co.kr/\")"
   ]
  },
  {
   "cell_type": "code",
   "execution_count": 4,
   "metadata": {},
   "outputs": [],
   "source": [
    "# 검색창 클릭해서\n",
    "from selenium.webdriver.common.by import By\n",
    "element = driver.find_element(By.XPATH,'//*[@id=\"stext\"]')\n",
    "element.click()"
   ]
  },
  {
   "cell_type": "code",
   "execution_count": 5,
   "metadata": {},
   "outputs": [],
   "source": [
    "# 검색어 입력하고\n",
    "element.send_keys(\"파이썬 백엔드\")"
   ]
  },
  {
   "cell_type": "code",
   "execution_count": 6,
   "metadata": {},
   "outputs": [],
   "source": [
    "# 검색 버튼 클릭\n",
    "search_button = driver.find_element(By.XPATH, '//*[@id=\"common_search_btn\"]')\n",
    "search_button.click()"
   ]
  },
  {
   "cell_type": "code",
   "execution_count": 7,
   "metadata": {},
   "outputs": [],
   "source": [
    "# 검색 결과에서 데이터들을 받아오기\n",
    "datas = driver.find_elements(By.CLASS_NAME,\"list-item\")"
   ]
  },
  {
   "cell_type": "code",
   "execution_count": 8,
   "metadata": {},
   "outputs": [],
   "source": [
    "crawling_datas = []\n",
    "for data in datas:\n",
    "    crawling_datas.append( [data.text.split(\"\\n\")[0],\"_\".join(data.text.split(\"\\n\")[1:]) ] )"
   ]
  },
  {
   "cell_type": "code",
   "execution_count": 10,
   "metadata": {},
   "outputs": [],
   "source": [
    "import pandas as pd\n",
    "df = pd.DataFrame(crawling_datas, columns=[\"기업명\", \"구인정보\"])"
   ]
  },
  {
   "cell_type": "code",
   "execution_count": 11,
   "metadata": {},
   "outputs": [],
   "source": [
    "df.to_csv(\"today_info.csv\")"
   ]
  },
  {
   "cell_type": "code",
   "execution_count": 12,
   "metadata": {},
   "outputs": [],
   "source": [
    "driver.close()"
   ]
  }
 ],
 "metadata": {
  "kernelspec": {
   "display_name": "sel",
   "language": "python",
   "name": "python3"
  },
  "language_info": {
   "codemirror_mode": {
    "name": "ipython",
    "version": 3
   },
   "file_extension": ".py",
   "mimetype": "text/x-python",
   "name": "python",
   "nbconvert_exporter": "python",
   "pygments_lexer": "ipython3",
   "version": "3.10.15"
  }
 },
 "nbformat": 4,
 "nbformat_minor": 2
}
